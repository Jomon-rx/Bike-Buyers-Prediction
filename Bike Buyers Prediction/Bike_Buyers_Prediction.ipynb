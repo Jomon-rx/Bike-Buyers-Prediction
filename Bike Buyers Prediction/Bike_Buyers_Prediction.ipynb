{
 "cells": [
  {
   "cell_type": "code",
   "execution_count": 1,
   "id": "1e179e24",
   "metadata": {},
   "outputs": [
    {
     "name": "stdout",
     "output_type": "stream",
     "text": [
      "      ID Marital Status  Gender  Income  Children        Education  \\\n",
      "0  12496        Married  Female   40000         1        Bachelors   \n",
      "1  24107        Married    Male   30000         3  Partial College   \n",
      "2  14177        Married    Male   80000         5  Partial College   \n",
      "3  24381         Single    Male   70000         0        Bachelors   \n",
      "4  25597         Single    Male   30000         0        Bachelors   \n",
      "\n",
      "       Occupation Home Owner  Cars Commute Distance   Region  Age  \\\n",
      "0  Skilled Manual        Yes     0        0-1 Miles   Europe   42   \n",
      "1        Clerical        Yes     1        0-1 Miles   Europe   43   \n",
      "2    Professional         No     2        2-5 Miles   Europe   60   \n",
      "3    Professional        Yes     1       5-10 Miles  Pacific   41   \n",
      "4        Clerical         No     0        0-1 Miles   Europe   36   \n",
      "\n",
      "  Purchased Bike  \n",
      "0             No  \n",
      "1             No  \n",
      "2             No  \n",
      "3            Yes  \n",
      "4            Yes  \n",
      "<class 'pandas.core.frame.DataFrame'>\n",
      "RangeIndex: 1000 entries, 0 to 999\n",
      "Data columns (total 13 columns):\n",
      " #   Column            Non-Null Count  Dtype \n",
      "---  ------            --------------  ----- \n",
      " 0   ID                1000 non-null   int64 \n",
      " 1   Marital Status    1000 non-null   object\n",
      " 2   Gender            1000 non-null   object\n",
      " 3   Income            1000 non-null   int64 \n",
      " 4   Children          1000 non-null   int64 \n",
      " 5   Education         1000 non-null   object\n",
      " 6   Occupation        1000 non-null   object\n",
      " 7   Home Owner        1000 non-null   object\n",
      " 8   Cars              1000 non-null   int64 \n",
      " 9   Commute Distance  1000 non-null   object\n",
      " 10  Region            1000 non-null   object\n",
      " 11  Age               1000 non-null   int64 \n",
      " 12  Purchased Bike    1000 non-null   object\n",
      "dtypes: int64(5), object(8)\n",
      "memory usage: 101.7+ KB\n",
      "None\n",
      "\n",
      "Missing values:\n",
      " ID                  0\n",
      "Marital Status      0\n",
      "Gender              0\n",
      "Income              0\n",
      "Children            0\n",
      "Education           0\n",
      "Occupation          0\n",
      "Home Owner          0\n",
      "Cars                0\n",
      "Commute Distance    0\n",
      "Region              0\n",
      "Age                 0\n",
      "Purchased Bike      0\n",
      "dtype: int64\n",
      "\n",
      "✅ Model Accuracy: 78.50%\n"
     ]
    }
   ],
   "source": [
    "# Import required libraries\n",
    "import pandas as pd\n",
    "from sklearn.model_selection import train_test_split\n",
    "from sklearn.preprocessing import LabelEncoder, StandardScaler\n",
    "from sklearn.ensemble import RandomForestClassifier\n",
    "from sklearn.metrics import accuracy_score, classification_report, confusion_matrix\n",
    "\n",
    "# Load the dataset\n",
    "df = pd.read_csv(r\"F:\\Datascience\\dataset\\bike_buyers_clean.csv\")\n",
    "\n",
    "# Preview data\n",
    "print(df.head())\n",
    "print(df.info())\n",
    "\n",
    "# Check for missing values\n",
    "print(\"\\nMissing values:\\n\", df.isnull().sum())\n",
    "\n",
    "# Separate features and target\n",
    "target_col = 'Purchased Bike' \n",
    "X = df.drop(target_col, axis=1)\n",
    "y = df[target_col]\n",
    "\n",
    "# Encode categorical variables\n",
    "X = pd.get_dummies(X, drop_first=True)\n",
    "\n",
    "# Encode target if it's categorical (Yes/No → 1/0)\n",
    "le = LabelEncoder()\n",
    "y = le.fit_transform(y)\n",
    "\n",
    "# Split data into train/test sets\n",
    "X_train, X_test, y_train, y_test = train_test_split(X, y, test_size=0.2, random_state=42)\n",
    "\n",
    "# Scale features\n",
    "scaler = StandardScaler()\n",
    "X_train_scaled = scaler.fit_transform(X_train)\n",
    "X_test_scaled = scaler.transform(X_test)\n",
    "\n",
    "# Build Random Forest Classifier\n",
    "model = RandomForestClassifier(n_estimators=100, random_state=42)\n",
    "model.fit(X_train_scaled, y_train)\n",
    "\n",
    "# Predict\n",
    "y_pred = model.predict(X_test_scaled)\n",
    "\n",
    "# Evaluate model\n",
    "accuracy = accuracy_score(y_test, y_pred)\n",
    "print(f\"\\n✅ Model Accuracy: {accuracy * 100:.2f}%\")\n",
    "\n",
    "\n"
   ]
  },
  {
   "cell_type": "code",
   "execution_count": 3,
   "id": "3c0aaf64",
   "metadata": {},
   "outputs": [
    {
     "name": "stdout",
     "output_type": "stream",
     "text": [
      "      ID Marital Status  Gender  Income  Children        Education  \\\n",
      "0  12496        Married  Female   40000         1        Bachelors   \n",
      "1  24107        Married    Male   30000         3  Partial College   \n",
      "2  14177        Married    Male   80000         5  Partial College   \n",
      "3  24381         Single    Male   70000         0        Bachelors   \n",
      "4  25597         Single    Male   30000         0        Bachelors   \n",
      "\n",
      "       Occupation Home Owner  Cars Commute Distance   Region  Age  \\\n",
      "0  Skilled Manual        Yes     0        0-1 Miles   Europe   42   \n",
      "1        Clerical        Yes     1        0-1 Miles   Europe   43   \n",
      "2    Professional         No     2        2-5 Miles   Europe   60   \n",
      "3    Professional        Yes     1       5-10 Miles  Pacific   41   \n",
      "4        Clerical         No     0        0-1 Miles   Europe   36   \n",
      "\n",
      "  Purchased Bike  \n",
      "0             No  \n",
      "1             No  \n",
      "2             No  \n",
      "3            Yes  \n",
      "4            Yes  \n",
      "<class 'pandas.core.frame.DataFrame'>\n",
      "RangeIndex: 1000 entries, 0 to 999\n",
      "Data columns (total 13 columns):\n",
      " #   Column            Non-Null Count  Dtype \n",
      "---  ------            --------------  ----- \n",
      " 0   ID                1000 non-null   int64 \n",
      " 1   Marital Status    1000 non-null   object\n",
      " 2   Gender            1000 non-null   object\n",
      " 3   Income            1000 non-null   int64 \n",
      " 4   Children          1000 non-null   int64 \n",
      " 5   Education         1000 non-null   object\n",
      " 6   Occupation        1000 non-null   object\n",
      " 7   Home Owner        1000 non-null   object\n",
      " 8   Cars              1000 non-null   int64 \n",
      " 9   Commute Distance  1000 non-null   object\n",
      " 10  Region            1000 non-null   object\n",
      " 11  Age               1000 non-null   int64 \n",
      " 12  Purchased Bike    1000 non-null   object\n",
      "dtypes: int64(5), object(8)\n",
      "memory usage: 101.7+ KB\n",
      "None\n"
     ]
    }
   ],
   "source": [
    "df = pd.read_csv(r\"F:\\Datascience\\dataset\\bike_buyers_clean.csv\")\n",
    "print(df.head())\n",
    "print(df.info())\n",
    "\n"
   ]
  },
  {
   "cell_type": "code",
   "execution_count": 4,
   "id": "e1d5e437",
   "metadata": {},
   "outputs": [
    {
     "name": "stdout",
     "output_type": "stream",
     "text": [
      "\n",
      "Missing values:\n",
      " ID                  0\n",
      "Marital Status      0\n",
      "Gender              0\n",
      "Income              0\n",
      "Children            0\n",
      "Education           0\n",
      "Occupation          0\n",
      "Home Owner          0\n",
      "Cars                0\n",
      "Commute Distance    0\n",
      "Region              0\n",
      "Age                 0\n",
      "Purchased Bike      0\n",
      "dtype: int64\n"
     ]
    }
   ],
   "source": [
    "print(\"\\nMissing values:\\n\", df.isnull().sum())\n"
   ]
  },
  {
   "cell_type": "code",
   "execution_count": 5,
   "id": "d852533d",
   "metadata": {},
   "outputs": [],
   "source": [
    "target_col = 'Purchased Bike' \n",
    "X = df.drop(target_col, axis=1)\n",
    "y = df[target_col]"
   ]
  },
  {
   "cell_type": "code",
   "execution_count": 6,
   "id": "8956d0fb",
   "metadata": {},
   "outputs": [],
   "source": [
    "X = pd.get_dummies(X, drop_first=True)\n"
   ]
  },
  {
   "cell_type": "code",
   "execution_count": 7,
   "id": "7f7f5301",
   "metadata": {},
   "outputs": [],
   "source": [
    "le = LabelEncoder()\n",
    "y = le.fit_transform(y)\n",
    "\n",
    "# Split data into train/test sets\n",
    "X_train, X_test, y_train, y_test = train_test_split(X, y, test_size=0.2, random_state=42)\n",
    "\n",
    "# Scale features\n",
    "scaler = StandardScaler()\n",
    "X_train_scaled = scaler.fit_transform(X_train)\n",
    "X_test_scaled = scaler.transform(X_test)"
   ]
  },
  {
   "cell_type": "code",
   "execution_count": 8,
   "id": "31b78fc8",
   "metadata": {},
   "outputs": [],
   "source": [
    "model = RandomForestClassifier(n_estimators=100, random_state=42)\n",
    "model.fit(X_train_scaled, y_train)\n",
    "\n",
    "# Predict\n",
    "y_pred = model.predict(X_test_scaled)\n"
   ]
  },
  {
   "cell_type": "code",
   "execution_count": 9,
   "id": "c9f8eaea",
   "metadata": {},
   "outputs": [
    {
     "name": "stdout",
     "output_type": "stream",
     "text": [
      "\n",
      "✅ Model Accuracy: 78.50%\n"
     ]
    }
   ],
   "source": [
    "accuracy = accuracy_score(y_test, y_pred)\n",
    "print(f\"\\n✅ Model Accuracy: {accuracy * 100:.2f}%\")\n"
   ]
  }
 ],
 "metadata": {
  "kernelspec": {
   "display_name": "base",
   "language": "python",
   "name": "python3"
  },
  "language_info": {
   "codemirror_mode": {
    "name": "ipython",
    "version": 3
   },
   "file_extension": ".py",
   "mimetype": "text/x-python",
   "name": "python",
   "nbconvert_exporter": "python",
   "pygments_lexer": "ipython3",
   "version": "3.10.9"
  }
 },
 "nbformat": 4,
 "nbformat_minor": 5
}
